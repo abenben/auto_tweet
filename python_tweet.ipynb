{
  "nbformat": 4,
  "nbformat_minor": 0,
  "metadata": {
    "colab": {
      "name": "python_tweet.ipynb",
      "provenance": [],
      "authorship_tag": "ABX9TyPdu5laTpfstjmIbXAsnYWx",
      "include_colab_link": true
    },
    "kernelspec": {
      "name": "python3",
      "display_name": "Python 3"
    }
  },
  "cells": [
    {
      "cell_type": "markdown",
      "metadata": {
        "id": "view-in-github",
        "colab_type": "text"
      },
      "source": [
        "<a href=\"https://colab.research.google.com/github/abenben/auto_tweet/blob/master/python_tweet.ipynb\" target=\"_parent\"><img src=\"https://colab.research.google.com/assets/colab-badge.svg\" alt=\"Open In Colab\"/></a>"
      ]
    },
    {
      "cell_type": "code",
      "metadata": {
        "id": "qCrvzurAjLwk",
        "colab_type": "code",
        "colab": {}
      },
      "source": [
        "!pip install requests requests-oauthlib"
      ],
      "execution_count": null,
      "outputs": []
    },
    {
      "cell_type": "code",
      "metadata": {
        "id": "_2k_TKa6j3HT",
        "colab_type": "code",
        "colab": {}
      },
      "source": [
        "# API用のキーパスやトークンは以下のサイトで準備しよう\n",
        "# https://developer.twitter.com/en\n",
        "!echo \"CONSUMER_KEY = 'XXXXXXXXXXXXXXXXXXXX'\" > myconfig.py\n",
        "!echo \"CONSUMER_SECRET = 'XXXXXXXXXXXXXXXXXXXX'\" >> myconfig.py\n",
        "!echo \"ACCESS_TOKEN = 'XXXXXXXXXXXXXXXXXXXX'\" >> myconfig.py\n",
        "!echo \"ACCESS_TOKEN_SECRET = 'XXXXXXXXXXXXXXXXXXXX'\" >> myconfig.py\n",
        "!cat myconfig.py"
      ],
      "execution_count": null,
      "outputs": []
    },
    {
      "cell_type": "code",
      "metadata": {
        "id": "dNXNeuhYjS-G",
        "colab_type": "code",
        "colab": {}
      },
      "source": [
        "import json,myconfig\n",
        "from requests_oauthlib import OAuth1Session\n",
        "\n",
        "CK = myconfig.CONSUMER_KEY\n",
        "CS = myconfig.CONSUMER_SECRET\n",
        "AT = myconfig.ACCESS_TOKEN\n",
        "ATS = myconfig.ACCESS_TOKEN_SECRET\n",
        "twitter = OAuth1Session(CK, CS, AT, ATS) #認証処理\n",
        "\n",
        "url = \"https://api.twitter.com/1.1/statuses/update.json\" #ツイートポストエンドポイント\n",
        "\n",
        "tweet = \"ツィートのテストです。\"\n",
        "\n",
        "params = {\"status\" : tweet}\n",
        "\n",
        "res = twitter.post(url, params = params)\n",
        "\n",
        "if res.status_code == 200: #正常時\n",
        "    print(\"Success.\")\n",
        "else: #失敗時\n",
        "    print(\"Failed. : %d\"% res.status_code)"
      ],
      "execution_count": null,
      "outputs": []
    },
    {
      "cell_type": "code",
      "metadata": {
        "id": "m9Gs6XWUkbSg",
        "colab_type": "code",
        "colab": {}
      },
      "source": [
        ""
      ],
      "execution_count": null,
      "outputs": []
    }
  ]
}